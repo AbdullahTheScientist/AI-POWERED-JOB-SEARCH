{
 "cells": [
  {
   "cell_type": "code",
   "execution_count": null,
   "id": "61f1d117",
   "metadata": {},
   "outputs": [
    {
     "name": "stdout",
     "output_type": "stream",
     "text": [
      "{'title': 'Data Analyst Specialist', 'company': 'Acme Tech', 'location': 'San Francisco', 'description': 'We are looking for a talented Data Analyst professional to join our team. This is a Full-time position with competitive benefits.', 'url': 'https://www.indeed.com/', 'apply_url': 'https://www.indeed.com/', 'date_posted': 'Today', 'platform': 'Indeed', 'is_real_job': False}\n",
      "{'title': 'Data Analyst Engineer', 'company': 'GlobalSystems', 'location': 'San Francisco', 'description': 'We are looking for a talented Data Analyst professional to join our team. This is a Contract position with competitive benefits.', 'url': 'https://www.indeed.com/', 'apply_url': 'https://www.indeed.com/', 'date_posted': '1 day ago', 'platform': 'Indeed', 'is_real_job': False}\n",
      "{'title': 'Data Analyst Manager', 'company': 'InnoTech Solutions', 'location': 'San Francisco', 'description': 'We are looking for a talented Data Analyst professional to join our team. This is a Part-time position with competitive benefits.', 'url': 'https://www.indeed.com/', 'apply_url': 'https://www.indeed.com/', 'date_posted': '2 days ago', 'platform': 'Indeed', 'is_real_job': False}\n"
     ]
    }
   ],
   "source": [
    "import requests\n",
    "\n",
    "class JobSearch:\n",
    "    def verify_url(self, url):\n",
    "        # Basic check to see if URL is reachable (you can adjust this)\n",
    "        try:\n",
    "            response = requests.head(url, timeout=5)\n",
    "            return response.status_code == 200\n",
    "        except:\n",
    "            return False\n",
    "\n",
    "    def search_indeed(self, keywords, location, count=5):\n",
    "        \"\"\"Search for jobs on Indeed with working URLs.\"\"\"\n",
    "        try:\n",
    "            keyword_param = keywords.replace(\" \", \"+\")\n",
    "            location_param = location.replace(\" \", \"+\")\n",
    "            \n",
    "            search_url = f\"https://www.indeed.com/jobs?q={keyword_param}&l={location_param}&sort=date\"\n",
    "            \n",
    "            if not self.verify_url(search_url):\n",
    "                search_url = \"https://www.indeed.com/\"\n",
    "            \n",
    "            jobs = []\n",
    "            for i in range(min(count, 5)):\n",
    "                company_names = [\"Acme Tech\", \"GlobalSystems\", \"InnoTech Solutions\", \"Digital Ventures\", \"TechCorp\"]\n",
    "                job_types = [\"Full-time\", \"Contract\", \"Part-time\", \"Permanent\", \"Remote\"]\n",
    "                \n",
    "                jobs.append({\n",
    "                    \"title\": f\"{keywords} {['Specialist', 'Engineer', 'Manager', 'Developer', 'Analyst'][i % 5]}\",\n",
    "                    \"company\": company_names[i % len(company_names)],\n",
    "                    \"location\": location,\n",
    "                    \"description\": f\"We are looking for a talented {keywords} professional to join our team. This is a {job_types[i % len(job_types)]} position with competitive benefits.\",\n",
    "                    \"url\": search_url,\n",
    "                    \"apply_url\": search_url,\n",
    "                    \"date_posted\": [\"Today\", \"1 day ago\", \"2 days ago\", \"3 days ago\", \"5 days ago\"][i % 5],\n",
    "                    \"platform\": \"Indeed\",\n",
    "                    \"is_real_job\": False\n",
    "                })\n",
    "            \n",
    "            return jobs\n",
    "            \n",
    "        except Exception as e:\n",
    "            print(f\"Indeed search error: {e}\")\n",
    "            return []\n",
    "\n",
    "# Instantiate the class\n",
    "job_finder = JobSearch()\n",
    "\n",
    "# Test the function\n",
    "results = job_finder.search_indeed(\"Data Analyst\", \"San Francisco\", count=5)\n",
    "\n",
    "# Print the output\n",
    "for job in results:\n",
    "    print(job)\n"
   ]
  },
  {
   "cell_type": "code",
   "execution_count": 9,
   "id": "0df3ee67",
   "metadata": {},
   "outputs": [
    {
     "name": "stdout",
     "output_type": "stream",
     "text": [
      "0\n"
     ]
    }
   ],
   "source": [
    "print(0%5)"
   ]
  },
  {
   "cell_type": "code",
   "execution_count": null,
   "id": "0aa7e12f",
   "metadata": {},
   "outputs": [
    {
     "data": {
      "text/plain": [
       "{'title': 'Data Analyst', 'company': 'Google'}"
      ]
     },
     "execution_count": 27,
     "metadata": {},
     "output_type": "execute_result"
    }
   ],
   "source": [
    "job = {}\n",
    "job[\"title\"] = \"Data Analyst\"\n",
    "job[\"company\"] = \"Google\"\n",
    "job\n"
   ]
  },
  {
   "cell_type": "code",
   "execution_count": 34,
   "id": "dddb89c5",
   "metadata": {},
   "outputs": [
    {
     "data": {
      "text/plain": [
       "[{'title': 'data analyst', 'company': 'google'},\n",
       " {'title': 'data analyst', 'company': 'google'}]"
      ]
     },
     "execution_count": 34,
     "metadata": {},
     "output_type": "execute_result"
    }
   ],
   "source": [
    "job = {}\n",
    "for i in range(3):\n",
    "    job['title'] = \"data analyst\"\n",
    "    job[\"company\"] = \"google\"\n",
    "p =[job]\n",
    "p.append(job)\n",
    "p"
   ]
  },
  {
   "cell_type": "code",
   "execution_count": 25,
   "id": "a4e5a65e",
   "metadata": {},
   "outputs": [
    {
     "ename": "SyntaxError",
     "evalue": "invalid syntax (4056214561.py, line 4)",
     "output_type": "error",
     "traceback": [
      "  \u001b[36mCell\u001b[39m\u001b[36m \u001b[39m\u001b[32mIn[25]\u001b[39m\u001b[32m, line 4\u001b[39m\n\u001b[31m    \u001b[39m\u001b[31mjob.append{\"title\":\"Data Analyst\", \"company\":\"Google\"}\u001b[39m\n              ^\n\u001b[31mSyntaxError\u001b[39m\u001b[31m:\u001b[39m invalid syntax\n"
     ]
    }
   ],
   "source": [
    "count = 3\n",
    "job = {}\n",
    "# for i in range(min(count, 5)):\n",
    "job.append{\"title\":\"Data Analyst\", \"company\":\"Google\"}"
   ]
  },
  {
   "cell_type": "code",
   "execution_count": 39,
   "id": "f7db1e7d",
   "metadata": {},
   "outputs": [
    {
     "data": {
      "text/plain": [
       "{'title_0': 'Data Analyst Specialist',\n",
       " 'company_names_0': 'google tech',\n",
       " 'title_1': 'Data Analyst Engineer',\n",
       " 'company_names_1': 'google system',\n",
       " 'title_2': 'Data Analyst Manager',\n",
       " 'company_names_2': 'google healt'}"
      ]
     },
     "execution_count": 39,
     "metadata": {},
     "output_type": "execute_result"
    }
   ],
   "source": [
    "keywords = \"Data Analyst\"\n",
    "count =3\n",
    "company = \"google\"\n",
    "jobs = []\n",
    "for i in range(min(count, 5)):\n",
    "    company_names = [\"Acme Tech\", \"GlobalSystems\", \"InnoTech Solutions\", \"Digital Ventures\", \"TechCorp\"]\n",
    "    job_types = [\"Full-time\", \"Contract\", \"Part-time\", \"Permanent\", \"Remote\"]\n",
    "    jobs.append({\n",
    "        \"title\": f\"{keywords} {['Specialist', 'Engineer', 'Manager', 'Developer', 'Analyst'][i % 5]}\",\n",
    "        \"company_names\": f\"{company} {['tech', 'system', 'healt'][i % 5]}\"\n",
    "        \n",
    "    })\n",
    "\n",
    "job_dict = {}\n",
    "for i, job in enumerate(jobs):\n",
    "#     for key, value in job.items():\n",
    "#         job_dict[f\"{key}_{i}\"] = value\n",
    "    job_dict[f\"title_{i}\"] = job[\"title\"]\n",
    "    job_dict[f\"company_names_{i}\"] = job[\"company_names\"]\n",
    "job_dict"
   ]
  },
  {
   "cell_type": "code",
   "execution_count": 10,
   "id": "15f78537",
   "metadata": {},
   "outputs": [
    {
     "data": {
      "text/plain": [
       "list"
      ]
     },
     "execution_count": 10,
     "metadata": {},
     "output_type": "execute_result"
    }
   ],
   "source": [
    "type(jobs)"
   ]
  },
  {
   "cell_type": "code",
   "execution_count": null,
   "id": "4c1cecd7",
   "metadata": {},
   "outputs": [],
   "source": [
    "\n",
    "jobs = []\n",
    "for i in range(min(count, 5)):\n",
    "    company_names = [\"Acme Tech\", \"GlobalSystems\", \"InnoTech Solutions\", \"Digital Ventures\", \"TechCorp\"]\n",
    "    job_types = [\"Full-time\", \"Contract\", \"Part-time\", \"Permanent\", \"Remote\"]\n",
    "    \n",
    "    jobs.append({\n",
    "        \"title\": f\"{keywords} {['Specialist', 'Engineer', 'Manager', 'Developer', 'Analyst'][i % 5]}\",\n",
    "        \"company\": company_names[i % len(company_names)],\n",
    "        \"location\": location,\n",
    "        \"description\": f\"We are looking for a talented {keywords} professional to join our team. This is a {job_types[i % len(job_types)]} position with competitive benefits.\",\n",
    "        \"url\": search_url,\n",
    "        \"apply_url\": search_url,\n",
    "        \"date_posted\": [\"Today\", \"1 day ago\", \"2 days ago\", \"3 days ago\", \"5 days ago\"][i % 5],\n",
    "        \"platform\": \"Indeed\",\n",
    "        \"is_real_job\": False\n",
    "    })\n",
    "\n",
    "return jobs"
   ]
  }
 ],
 "metadata": {
  "kernelspec": {
   "display_name": "job",
   "language": "python",
   "name": "python3"
  },
  "language_info": {
   "codemirror_mode": {
    "name": "ipython",
    "version": 3
   },
   "file_extension": ".py",
   "mimetype": "text/x-python",
   "name": "python",
   "nbconvert_exporter": "python",
   "pygments_lexer": "ipython3",
   "version": "3.11.11"
  }
 },
 "nbformat": 4,
 "nbformat_minor": 5
}
