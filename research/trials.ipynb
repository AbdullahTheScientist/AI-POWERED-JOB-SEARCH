{
 "cells": [
  {
   "cell_type": "markdown",
   "id": "be00989e",
   "metadata": {},
   "source": [
    "__________"
   ]
  },
  {
   "cell_type": "code",
   "execution_count": 7,
   "id": "d6dfa5ff",
   "metadata": {},
   "outputs": [
    {
     "name": "stdout",
     "output_type": "stream",
     "text": [
      "{\n",
      "  \"searchParameters\": {\n",
      "    \"q\": \"data scientist jobs New York remote site:linkedin.com OR site:indeed.com\",\n",
      "    \"type\": \"search\",\n",
      "    \"engine\": \"google\"\n",
      "  },\n",
      "  \"organic\": [\n",
      "    {\n",
      "      \"title\": \"517 Remote Data Scientist jobs in New York City ...\",\n",
      "      \"link\": \"https://www.linkedin.com/jobs/remote-data-scientist-jobs-new-york-city-metropolitan-area\",\n",
      "      \"snippet\": \"517 Remote Data Scientist Jobs in New York City Metropolitan Area (42 new) \\u00b7 Data Science Analyst \\u00b7 Data Scientist \\u00b7 Machine Learning Engineer \\u00b7 Data Scientist ...\",\n",
      "      \"position\": 1\n",
      "    },\n",
      "    {\n",
      "      \"title\": \"Data Scientist jobs in New York, Ny\",\n",
      "      \"link\": \"https://www.indeed.com/q-data-scientist-l-new-york,-ny-jobs.html\",\n",
      "      \"snippet\": \"Data Scientist - Product Personalization. CVS Health. Hybrid remote in New York, NY 10013. $86,520 - $173,040. a year. Full-time. Influence the product roadmap ...\",\n",
      "      \"position\": 2\n",
      "    },\n",
      "    {\n",
      "      \"title\": \"459 Remote Data Scientist jobs in New York\",\n",
      "      \"link\": \"https://www.linkedin.com/jobs/remote-data-scientist-jobs-new-york-ny\",\n",
      "      \"snippet\": \"Today's top 459 Remote Data Scientist jobs in New York. Leverage your professional network, and get hired. New Remote Data Scientist jobs added daily.\",\n",
      "      \"position\": 3\n",
      "    },\n",
      "    {\n",
      "      \"title\": \"29 Remote Scientist jobs in New York\",\n",
      "      \"link\": \"https://www.linkedin.com/jobs/remote-scientist-jobs-new-york\",\n",
      "      \"snippet\": \"29 Remote Scientist Jobs in New York \\u00b7 Head Data Scientist (Product) \\u00b7 Senior Data Scientist, Marketing \\u00b7 Medical Science Liaison, Critical Care and Hematology - ...\",\n",
      "      \"position\": 4\n",
      "    },\n",
      "    {\n",
      "      \"title\": \"10000+ Data Scientist jobs in New York\",\n",
      "      \"link\": \"https://www.linkedin.com/jobs/data-scientist-jobs-new-york\",\n",
      "      \"snippet\": \"... Data Scientist jobs in New York ... Remote. Remote. On-site (6,874). Hybrid (2,146). Remote (1,174). Done. Get notified about new Data Scientist jobs in New York.\",\n",
      "      \"position\": 5\n",
      "    },\n",
      "    {\n",
      "      \"title\": \"Data Science Entry Level Jobs, Employment in New York, NY\",\n",
      "      \"link\": \"https://www.indeed.com/q-data-science-entry-level-l-new-york,-ny-jobs.html\",\n",
      "      \"snippet\": \"Data Scientist - Clinical Analytics. CVS Health. Hybrid remote in New York, NY 10013. $72,100 - $173,040. a year. Full-time. At CVS Health, we're building a ...\",\n",
      "      \"position\": 6\n",
      "    },\n",
      "    {\n",
      "      \"title\": \"Part Time Data Scientist Jobs, Employment in New York, NY\",\n",
      "      \"link\": \"https://www.indeed.com/q-part-time-data-scientist-l-new-york,-ny-jobs.html\",\n",
      "      \"snippet\": \"Data Scientist \\u2013 NLP. Solytics Partners LLC. Hybrid remote in New York, NY 10001. $90,000 - $120,000. a year. Health insurance \\u00b7 Paid time off. Full-time.\",\n",
      "      \"position\": 7\n",
      "    },\n",
      "    {\n",
      "      \"title\": \"Data Scientist jobs in Manhattan, Ny\",\n",
      "      \"link\": \"https://www.indeed.com/q-data-scientist-l-manhattan,-ny-jobs.html\",\n",
      "      \"snippet\": \"Hybrid remote in New York, NY 10013. $86,520 - $173,040. a year. Full-time. EmployerActive 1 day ago. At CVS Health, we're building a world of health around ...\",\n",
      "      \"position\": 8\n",
      "    },\n",
      "    {\n",
      "      \"title\": \"Healthcare Data Scientist jobs in New York, Ny\",\n",
      "      \"link\": \"https://www.indeed.com/q-healthcare-data-scientist-l-new-york,-ny-jobs.html\",\n",
      "      \"snippet\": \"... data engineering and data visualization. Data Scientist - Product Personalization. CVS Health. Hybrid remote in New York, NY 10013. $86,520 - $173,040. a year.\",\n",
      "      \"position\": 9\n",
      "    },\n",
      "    {\n",
      "      \"title\": \"27 Remote Scientist jobs in New York\",\n",
      "      \"link\": \"https://www.linkedin.com/jobs/remote-scientist-jobs-new-york-ny?trk=public_profile_jserp\",\n",
      "      \"snippet\": \"27 Remote Scientist Jobs in New York \\u00b7 Data Science Vice President \\u00b7 Senior Data Scientist, Marketing \\u00b7 Machine Learning Architect \\u00b7 Learning Strategist, 2 Hour ...\",\n",
      "      \"position\": 10\n",
      "    }\n",
      "  ],\n",
      "  \"relatedSearches\": [\n",
      "    {\n",
      "      \"query\": \"Entry level data scientist jobs new york remote\"\n",
      "    },\n",
      "    {\n",
      "      \"query\": \"Freelance data scientist jobs new york remote\"\n",
      "    },\n",
      "    {\n",
      "      \"query\": \"Data scientist jobs new york remote salary\"\n",
      "    },\n",
      "    {\n",
      "      \"query\": \"Data scientist jobs new york remote no experience\"\n",
      "    },\n",
      "    {\n",
      "      \"query\": \"Data scientist jobs new york remote part time\"\n",
      "    }\n",
      "  ],\n",
      "  \"credits\": 1\n",
      "}\n"
     ]
    }
   ],
   "source": [
    "import requests\n",
    "import json\n",
    "\n",
    "# Example search parameters\n",
    "keyword = \"data scientist\"\n",
    "location = \"New York\"\n",
    "job_type = \"remote\"  # could be full-time, part-time, internship, etc.\n",
    "platforms = [\"linkedin.com\", \"indeed.com\"]  # you can add more platforms\n",
    "\n",
    "# Constructing the query\n",
    "site_filter = \" OR \".join([f\"site:{p}\" for p in platforms])\n",
    "query = f\"{keyword} jobs {location} {job_type} {site_filter}\"\n",
    "\n",
    "url = \"https://google.serper.dev/search\"\n",
    "\n",
    "payload = json.dumps({\n",
    "    \"q\": query\n",
    "})\n",
    "headers = {\n",
    "    'X-API-KEY': 'd159d8756398ae37149c550bc5ca0ddd490ad1a0',  # replace with your real key\n",
    "    'Content-Type': 'application/json'\n",
    "}\n",
    "\n",
    "response = requests.post(url, headers=headers, data=payload)\n",
    "\n",
    "# Display the results\n",
    "results = response.json()\n",
    "print(json.dumps(results, indent=2))\n"
   ]
  },
  {
   "cell_type": "markdown",
   "metadata": {},
   "source": [
    "________"
   ]
  },
  {
   "cell_type": "code",
   "execution_count": null,
   "id": "61f1d117",
   "metadata": {},
   "outputs": [
    {
     "name": "stdout",
     "output_type": "stream",
     "text": [
      "{'title': 'Data Analyst Specialist', 'company': 'Acme Tech', 'location': 'San Francisco', 'description': 'We are looking for a talented Data Analyst professional to join our team. This is a Full-time position with competitive benefits.', 'url': 'https://www.indeed.com/', 'apply_url': 'https://www.indeed.com/', 'date_posted': 'Today', 'platform': 'Indeed', 'is_real_job': False}\n",
      "{'title': 'Data Analyst Engineer', 'company': 'GlobalSystems', 'location': 'San Francisco', 'description': 'We are looking for a talented Data Analyst professional to join our team. This is a Contract position with competitive benefits.', 'url': 'https://www.indeed.com/', 'apply_url': 'https://www.indeed.com/', 'date_posted': '1 day ago', 'platform': 'Indeed', 'is_real_job': False}\n",
      "{'title': 'Data Analyst Manager', 'company': 'InnoTech Solutions', 'location': 'San Francisco', 'description': 'We are looking for a talented Data Analyst professional to join our team. This is a Part-time position with competitive benefits.', 'url': 'https://www.indeed.com/', 'apply_url': 'https://www.indeed.com/', 'date_posted': '2 days ago', 'platform': 'Indeed', 'is_real_job': False}\n"
     ]
    }
   ],
   "source": [
    "import requests\n",
    "\n",
    "class JobSearch:\n",
    "    def verify_url(self, url):\n",
    "        # Basic check to see if URL is reachable (you can adjust this)\n",
    "        try:\n",
    "            response = requests.head(url, timeout=5)\n",
    "            return response.status_code == 200\n",
    "        except:\n",
    "            return False\n",
    "\n",
    "    def search_indeed(self, keywords, location, count=5):\n",
    "        \"\"\"Search for jobs on Indeed with working URLs.\"\"\"\n",
    "        try:\n",
    "            keyword_param = keywords.replace(\" \", \"+\")\n",
    "            location_param = location.replace(\" \", \"+\")\n",
    "            \n",
    "            search_url = f\"https://www.indeed.com/jobs?q={keyword_param}&l={location_param}&sort=date\"\n",
    "            \n",
    "            if not self.verify_url(search_url):\n",
    "                search_url = \"https://www.indeed.com/\"\n",
    "            \n",
    "            jobs = []\n",
    "            for i in range(min(count, 5)):\n",
    "                company_names = [\"Acme Tech\", \"GlobalSystems\", \"InnoTech Solutions\", \"Digital Ventures\", \"TechCorp\"]\n",
    "                job_types = [\"Full-time\", \"Contract\", \"Part-time\", \"Permanent\", \"Remote\"]\n",
    "                \n",
    "                jobs.append({\n",
    "                    \"title\": f\"{keywords} {['Specialist', 'Engineer', 'Manager', 'Developer', 'Analyst'][i % 5]}\",\n",
    "                    \"company\": company_names[i % len(company_names)],\n",
    "                    \"location\": location,\n",
    "                    \"description\": f\"We are looking for a talented {keywords} professional to join our team. This is a {job_types[i % len(job_types)]} position with competitive benefits.\",\n",
    "                    \"url\": search_url,\n",
    "                    \"apply_url\": search_url,\n",
    "                    \"date_posted\": [\"Today\", \"1 day ago\", \"2 days ago\", \"3 days ago\", \"5 days ago\"][i % 5],\n",
    "                    \"platform\": \"Indeed\",\n",
    "                    \"is_real_job\": False\n",
    "                })\n",
    "            \n",
    "            return jobs\n",
    "            \n",
    "        except Exception as e:\n",
    "            print(f\"Indeed search error: {e}\")\n",
    "            return []\n",
    "\n",
    "# Instantiate the class\n",
    "job_finder = JobSearch()\n",
    "\n",
    "# Test the function\n",
    "results = job_finder.search_indeed(\"Data Analyst\", \"San Francisco\", count=5)\n",
    "\n",
    "# Print the output\n",
    "for job in results:\n",
    "    print(job)\n"
   ]
  },
  {
   "cell_type": "code",
   "execution_count": 9,
   "id": "0df3ee67",
   "metadata": {},
   "outputs": [
    {
     "name": "stdout",
     "output_type": "stream",
     "text": [
      "0\n"
     ]
    }
   ],
   "source": [
    "print(0%5)"
   ]
  },
  {
   "cell_type": "code",
   "execution_count": null,
   "id": "0aa7e12f",
   "metadata": {},
   "outputs": [
    {
     "data": {
      "text/plain": [
       "{'title': 'Data Analyst', 'company': 'Google'}"
      ]
     },
     "execution_count": 27,
     "metadata": {},
     "output_type": "execute_result"
    }
   ],
   "source": [
    "job = {}\n",
    "job[\"title\"] = \"Data Analyst\"\n",
    "job[\"company\"] = \"Google\"\n",
    "job\n"
   ]
  },
  {
   "cell_type": "code",
   "execution_count": 34,
   "id": "dddb89c5",
   "metadata": {},
   "outputs": [
    {
     "data": {
      "text/plain": [
       "[{'title': 'data analyst', 'company': 'google'},\n",
       " {'title': 'data analyst', 'company': 'google'}]"
      ]
     },
     "execution_count": 34,
     "metadata": {},
     "output_type": "execute_result"
    }
   ],
   "source": [
    "job = {}\n",
    "for i in range(3):\n",
    "    job['title'] = \"data analyst\"\n",
    "    job[\"company\"] = \"google\"\n",
    "p =[job]\n",
    "p.append(job)\n",
    "p"
   ]
  },
  {
   "cell_type": "code",
   "execution_count": 25,
   "id": "a4e5a65e",
   "metadata": {},
   "outputs": [
    {
     "ename": "SyntaxError",
     "evalue": "invalid syntax (4056214561.py, line 4)",
     "output_type": "error",
     "traceback": [
      "  \u001b[36mCell\u001b[39m\u001b[36m \u001b[39m\u001b[32mIn[25]\u001b[39m\u001b[32m, line 4\u001b[39m\n\u001b[31m    \u001b[39m\u001b[31mjob.append{\"title\":\"Data Analyst\", \"company\":\"Google\"}\u001b[39m\n              ^\n\u001b[31mSyntaxError\u001b[39m\u001b[31m:\u001b[39m invalid syntax\n"
     ]
    }
   ],
   "source": [
    "count = 3\n",
    "job = {}\n",
    "# for i in range(min(count, 5)):\n",
    "job.append{\"title\":\"Data Analyst\", \"company\":\"Google\"}"
   ]
  },
  {
   "cell_type": "code",
   "execution_count": 39,
   "id": "f7db1e7d",
   "metadata": {},
   "outputs": [
    {
     "data": {
      "text/plain": [
       "{'title_0': 'Data Analyst Specialist',\n",
       " 'company_names_0': 'google tech',\n",
       " 'title_1': 'Data Analyst Engineer',\n",
       " 'company_names_1': 'google system',\n",
       " 'title_2': 'Data Analyst Manager',\n",
       " 'company_names_2': 'google healt'}"
      ]
     },
     "execution_count": 39,
     "metadata": {},
     "output_type": "execute_result"
    }
   ],
   "source": [
    "keywords = \"Data Analyst\"\n",
    "count =3\n",
    "company = \"google\"\n",
    "jobs = []\n",
    "for i in range(min(count, 5)):\n",
    "    company_names = [\"Acme Tech\", \"GlobalSystems\", \"InnoTech Solutions\", \"Digital Ventures\", \"TechCorp\"]\n",
    "    job_types = [\"Full-time\", \"Contract\", \"Part-time\", \"Permanent\", \"Remote\"]\n",
    "    jobs.append({\n",
    "        \"title\": f\"{keywords} {['Specialist', 'Engineer', 'Manager', 'Developer', 'Analyst'][i % 5]}\",\n",
    "        \"company_names\": f\"{company} {['tech', 'system', 'healt'][i % 5]}\"\n",
    "        \n",
    "    })\n",
    "\n",
    "job_dict = {}\n",
    "for i, job in enumerate(jobs):\n",
    "#     for key, value in job.items():\n",
    "#         job_dict[f\"{key}_{i}\"] = value\n",
    "    job_dict[f\"title_{i}\"] = job[\"title\"]\n",
    "    job_dict[f\"company_names_{i}\"] = job[\"company_names\"]\n",
    "job_dict"
   ]
  },
  {
   "cell_type": "code",
   "execution_count": 10,
   "id": "15f78537",
   "metadata": {},
   "outputs": [
    {
     "data": {
      "text/plain": [
       "list"
      ]
     },
     "execution_count": 10,
     "metadata": {},
     "output_type": "execute_result"
    }
   ],
   "source": [
    "type(jobs)"
   ]
  },
  {
   "cell_type": "code",
   "execution_count": null,
   "id": "4c1cecd7",
   "metadata": {},
   "outputs": [],
   "source": [
    "\n",
    "jobs = []\n",
    "for i in range(min(count, 5)):\n",
    "    company_names = [\"Acme Tech\", \"GlobalSystems\", \"InnoTech Solutions\", \"Digital Ventures\", \"TechCorp\"]\n",
    "    job_types = [\"Full-time\", \"Contract\", \"Part-time\", \"Permanent\", \"Remote\"]\n",
    "    \n",
    "    jobs.append({\n",
    "        \"title\": f\"{keywords} {['Specialist', 'Engineer', 'Manager', 'Developer', 'Analyst'][i % 5]}\",\n",
    "        \"company\": company_names[i % len(company_names)],\n",
    "        \"location\": location,\n",
    "        \"description\": f\"We are looking for a talented {keywords} professional to join our team. This is a {job_types[i % len(job_types)]} position with competitive benefits.\",\n",
    "        \"url\": search_url,\n",
    "        \"apply_url\": search_url,\n",
    "        \"date_posted\": [\"Today\", \"1 day ago\", \"2 days ago\", \"3 days ago\", \"5 days ago\"][i % 5],\n",
    "        \"platform\": \"Indeed\",\n",
    "        \"is_real_job\": False\n",
    "    })\n",
    "\n",
    "return jobs"
   ]
  }
 ],
 "metadata": {
  "kernelspec": {
   "display_name": "job",
   "language": "python",
   "name": "python3"
  },
  "language_info": {
   "codemirror_mode": {
    "name": "ipython",
    "version": 3
   },
   "file_extension": ".py",
   "mimetype": "text/x-python",
   "name": "python",
   "nbconvert_exporter": "python",
   "pygments_lexer": "ipython3",
   "version": "3.11.11"
  }
 },
 "nbformat": 4,
 "nbformat_minor": 5
}
